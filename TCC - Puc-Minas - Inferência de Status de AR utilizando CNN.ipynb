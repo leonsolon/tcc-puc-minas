{
 "cells": [
  {
   "cell_type": "markdown",
   "metadata": {},
   "source": [
    "# INFERÊNCIA DE STATUS DE ENTREGA DE AVISOS DE RECEBIMENTO UTILIZANDO REDES NEURAIS CONVOLUCIONAIS\n",
    "\n",
    "Esse script foi utilizado como parte de trabalho  de  conclusao de curso apresentado ao curso de especializacãoo em Ciência de Dados e BigData como requisito parcial à obtencão do título de especialista.\n",
    "\n",
    "O presente trabalho teve como base o artigo de Sunita Nayak publicado em 29 de  maio de 2019\n",
    "\n",
    "https://www.learnopencv.com/image-classification-using-transfer-learning-in-pytorch/"
   ]
  },
  {
   "cell_type": "code",
   "execution_count": 3,
   "metadata": {},
   "outputs": [],
   "source": [
    "import torch, torchvision\n",
    "from torchvision import datasets, models, transforms\n",
    "import torch.nn as nn\n",
    "import torch.optim as optim\n",
    "from torch.utils.data import DataLoader\n",
    "import time\n",
    "from torchsummary import summary\n",
    "\n",
    "import numpy as np\n",
    "import matplotlib.pyplot as plt\n",
    "import os\n",
    "\n",
    "from PIL import Image"
   ]
  },
  {
   "cell_type": "code",
   "execution_count": 4,
   "metadata": {},
   "outputs": [],
   "source": [
    "from torchvision.transforms.functional import crop\n",
    "\n",
    "def bottom_crop(image):\n",
    "    return crop(image, 2*image_size/3, 2*image_size/3, image_size, image_size)"
   ]
  },
  {
   "cell_type": "code",
   "execution_count": 5,
   "metadata": {},
   "outputs": [],
   "source": [
    "image_size = 512\n",
    "\n",
    "# Transformando as imagens\n",
    "image_transforms = { \n",
    "    'train': transforms.Compose([\n",
    "        transforms.Resize(size=image_size),\n",
    "        transforms.Lambda(bottom_crop),\n",
    "        transforms.RandomHorizontalFlip(),\n",
    "        transforms.ToTensor(),\n",
    "        transforms.Normalize([0.485, 0.456, 0.406],\n",
    "                             [0.229, 0.224, 0.225])\n",
    "    ]),\n",
    "    'validation': transforms.Compose([\n",
    "        transforms.Resize(size=image_size),\n",
    "        transforms.Lambda(bottom_crop),\n",
    "        transforms.ToTensor(),\n",
    "        transforms.Normalize([0.485, 0.456, 0.406],\n",
    "                             [0.229, 0.224, 0.225])\n",
    "    ]),\n",
    "    'test': transforms.Compose([\n",
    "        transforms.Resize(size=image_size),\n",
    "        transforms.Lambda(bottom_crop),\n",
    "        transforms.ToTensor(),\n",
    "        transforms.Normalize([0.485, 0.456, 0.406],\n",
    "                             [0.229, 0.224, 0.225])\n",
    "    ])\n",
    "}"
   ]
  },
  {
   "cell_type": "code",
   "execution_count": 6,
   "metadata": {},
   "outputs": [
    {
     "name": "stdout",
     "output_type": "stream",
     "text": [
      "2\n",
      "{0: 'devolvidos', 1: 'entregues'}\n"
     ]
    }
   ],
   "source": [
    "# Carregar as imagens\n",
    "\n",
    "# Determinar as pastas de treino, validação e teste\n",
    "\n",
    "dataset = r'C:\\Users\\leon\\OneDrive\\academico\\pos puc-minas\\tcc\\script\\data\\split'\n",
    "\n",
    "train_directory = os.path.join(dataset, 'train')\n",
    "valid_directory = os.path.join(dataset, 'validation')\n",
    "\n",
    "# Tamanho do batch de treinamento\n",
    "bs = 32\n",
    "\n",
    "# Determinando o número de classes\n",
    "num_classes = len(os.listdir(valid_directory))  \n",
    "print(num_classes)\n",
    "\n",
    "# Load Data from folders\n",
    "data = {\n",
    "    'train': datasets.ImageFolder(root=train_directory, transform=image_transforms['train']),\n",
    "    'validation': datasets.ImageFolder(root=valid_directory, transform=image_transforms['validation'])\n",
    "}\n",
    "\n",
    "# Mapear os índices com os nomes das classes (entregue e devolvido)\n",
    "idx_to_class = {v: k for k, v in data['train'].class_to_idx.items()}\n",
    "print(idx_to_class)\n",
    "\n",
    "# Quantidad de imagens para serem utilizados para calcular erro médio e acurácia\n",
    "train_data_size = len(data['train'])\n",
    "valid_data_size = len(data['validation'])\n",
    "\n",
    "# Cria os DataLoaders para treino e validação\n",
    "train_data_loader = DataLoader(data['train'], batch_size=bs, shuffle=True)\n",
    "valid_data_loader = DataLoader(data['validation'], batch_size=bs, shuffle=True)"
   ]
  },
  {
   "cell_type": "code",
   "execution_count": 7,
   "metadata": {},
   "outputs": [
    {
     "data": {
      "text/plain": [
       "(1144, 144)"
      ]
     },
     "execution_count": 7,
     "metadata": {},
     "output_type": "execute_result"
    }
   ],
   "source": [
    "train_data_size, valid_data_size"
   ]
  },
  {
   "cell_type": "code",
   "execution_count": 8,
   "metadata": {},
   "outputs": [
    {
     "name": "stderr",
     "output_type": "stream",
     "text": [
      "Downloading: \"https://download.pytorch.org/models/alexnet-owt-7be5be79.pth\" to C:\\Users\\leon/.cache\\torch\\hub\\checkpoints\\alexnet-owt-7be5be79.pth\n",
      "100.0%\n"
     ]
    },
    {
     "data": {
      "text/plain": [
       "AlexNet(\n",
       "  (features): Sequential(\n",
       "    (0): Conv2d(3, 64, kernel_size=(11, 11), stride=(4, 4), padding=(2, 2))\n",
       "    (1): ReLU(inplace=True)\n",
       "    (2): MaxPool2d(kernel_size=3, stride=2, padding=0, dilation=1, ceil_mode=False)\n",
       "    (3): Conv2d(64, 192, kernel_size=(5, 5), stride=(1, 1), padding=(2, 2))\n",
       "    (4): ReLU(inplace=True)\n",
       "    (5): MaxPool2d(kernel_size=3, stride=2, padding=0, dilation=1, ceil_mode=False)\n",
       "    (6): Conv2d(192, 384, kernel_size=(3, 3), stride=(1, 1), padding=(1, 1))\n",
       "    (7): ReLU(inplace=True)\n",
       "    (8): Conv2d(384, 256, kernel_size=(3, 3), stride=(1, 1), padding=(1, 1))\n",
       "    (9): ReLU(inplace=True)\n",
       "    (10): Conv2d(256, 256, kernel_size=(3, 3), stride=(1, 1), padding=(1, 1))\n",
       "    (11): ReLU(inplace=True)\n",
       "    (12): MaxPool2d(kernel_size=3, stride=2, padding=0, dilation=1, ceil_mode=False)\n",
       "  )\n",
       "  (avgpool): AdaptiveAvgPool2d(output_size=(6, 6))\n",
       "  (classifier): Sequential(\n",
       "    (0): Dropout(p=0.5, inplace=False)\n",
       "    (1): Linear(in_features=9216, out_features=4096, bias=True)\n",
       "    (2): ReLU(inplace=True)\n",
       "    (3): Dropout(p=0.5, inplace=False)\n",
       "    (4): Linear(in_features=4096, out_features=4096, bias=True)\n",
       "    (5): ReLU(inplace=True)\n",
       "    (6): Linear(in_features=4096, out_features=1000, bias=True)\n",
       "  )\n",
       ")"
      ]
     },
     "execution_count": 8,
     "metadata": {},
     "output_type": "execute_result"
    }
   ],
   "source": [
    "alexnet = models.alexnet(pretrained=True)\n",
    "alexnet"
   ]
  },
  {
   "cell_type": "code",
   "execution_count": 9,
   "metadata": {},
   "outputs": [],
   "source": [
    "# Congelar os parametros da rede pré-treinada\n",
    "for param in alexnet.parameters():\n",
    "    param.requires_grad = False"
   ]
  },
  {
   "cell_type": "code",
   "execution_count": 10,
   "metadata": {},
   "outputs": [
    {
     "data": {
      "text/plain": [
       "AlexNet(\n",
       "  (features): Sequential(\n",
       "    (0): Conv2d(3, 64, kernel_size=(11, 11), stride=(4, 4), padding=(2, 2))\n",
       "    (1): ReLU(inplace=True)\n",
       "    (2): MaxPool2d(kernel_size=3, stride=2, padding=0, dilation=1, ceil_mode=False)\n",
       "    (3): Conv2d(64, 192, kernel_size=(5, 5), stride=(1, 1), padding=(2, 2))\n",
       "    (4): ReLU(inplace=True)\n",
       "    (5): MaxPool2d(kernel_size=3, stride=2, padding=0, dilation=1, ceil_mode=False)\n",
       "    (6): Conv2d(192, 384, kernel_size=(3, 3), stride=(1, 1), padding=(1, 1))\n",
       "    (7): ReLU(inplace=True)\n",
       "    (8): Conv2d(384, 256, kernel_size=(3, 3), stride=(1, 1), padding=(1, 1))\n",
       "    (9): ReLU(inplace=True)\n",
       "    (10): Conv2d(256, 256, kernel_size=(3, 3), stride=(1, 1), padding=(1, 1))\n",
       "    (11): ReLU(inplace=True)\n",
       "    (12): MaxPool2d(kernel_size=3, stride=2, padding=0, dilation=1, ceil_mode=False)\n",
       "  )\n",
       "  (avgpool): AdaptiveAvgPool2d(output_size=(6, 6))\n",
       "  (classifier): Sequential(\n",
       "    (0): Dropout(p=0.5, inplace=False)\n",
       "    (1): Linear(in_features=9216, out_features=4096, bias=True)\n",
       "    (2): ReLU(inplace=True)\n",
       "    (3): Dropout(p=0.5, inplace=False)\n",
       "    (4): Linear(in_features=4096, out_features=4096, bias=True)\n",
       "    (5): ReLU(inplace=True)\n",
       "    (6): Linear(in_features=4096, out_features=2, bias=True)\n",
       "    (7): LogSoftmax(dim=1)\n",
       "  )\n",
       ")"
      ]
     },
     "execution_count": 10,
     "metadata": {},
     "output_type": "execute_result"
    }
   ],
   "source": [
    "# Mudar a última camada para alterar o número de classes\n",
    "alexnet.classifier[6] = nn.Linear(4096, num_classes)\n",
    "alexnet.classifier.add_module(\"7\", nn.LogSoftmax(dim = 1))\n",
    "alexnet.cuda()\n",
    "alexnet"
   ]
  },
  {
   "cell_type": "code",
   "execution_count": 11,
   "metadata": {},
   "outputs": [],
   "source": [
    "device = torch.device(\"cuda:0\" if torch.cuda.is_available() else \"cpu\")"
   ]
  },
  {
   "cell_type": "code",
   "execution_count": 12,
   "metadata": {},
   "outputs": [
    {
     "data": {
      "text/plain": [
       "device(type='cuda', index=0)"
      ]
     },
     "execution_count": 12,
     "metadata": {},
     "output_type": "execute_result"
    }
   ],
   "source": [
    "device"
   ]
  },
  {
   "cell_type": "code",
   "execution_count": 13,
   "metadata": {},
   "outputs": [
    {
     "name": "stderr",
     "output_type": "stream",
     "text": [
      "f:\\leon\\venvs\\puc-minas\\lib\\site-packages\\torch\\nn\\functional.py:718: UserWarning: Named tensors and all their associated APIs are an experimental feature and subject to change. Please do not use them for anything important until they are released as stable. (Triggered internally at  ..\\c10/core/TensorImpl.h:1156.)\n",
      "  return torch.max_pool2d(input, kernel_size, stride, padding, dilation, ceil_mode)\n"
     ]
    },
    {
     "name": "stdout",
     "output_type": "stream",
     "text": [
      "----------------------------------------------------------------\n",
      "        Layer (type)               Output Shape         Param #\n",
      "================================================================\n",
      "            Conv2d-1         [-1, 64, 127, 127]          23,296\n",
      "              ReLU-2         [-1, 64, 127, 127]               0\n",
      "         MaxPool2d-3           [-1, 64, 63, 63]               0\n",
      "            Conv2d-4          [-1, 192, 63, 63]         307,392\n",
      "              ReLU-5          [-1, 192, 63, 63]               0\n",
      "         MaxPool2d-6          [-1, 192, 31, 31]               0\n",
      "            Conv2d-7          [-1, 384, 31, 31]         663,936\n",
      "              ReLU-8          [-1, 384, 31, 31]               0\n",
      "            Conv2d-9          [-1, 256, 31, 31]         884,992\n",
      "             ReLU-10          [-1, 256, 31, 31]               0\n",
      "           Conv2d-11          [-1, 256, 31, 31]         590,080\n",
      "             ReLU-12          [-1, 256, 31, 31]               0\n",
      "        MaxPool2d-13          [-1, 256, 15, 15]               0\n",
      "AdaptiveAvgPool2d-14            [-1, 256, 6, 6]               0\n",
      "          Dropout-15                 [-1, 9216]               0\n",
      "           Linear-16                 [-1, 4096]      37,752,832\n",
      "             ReLU-17                 [-1, 4096]               0\n",
      "          Dropout-18                 [-1, 4096]               0\n",
      "           Linear-19                 [-1, 4096]      16,781,312\n",
      "             ReLU-20                 [-1, 4096]               0\n",
      "           Linear-21                    [-1, 2]           8,194\n",
      "       LogSoftmax-22                    [-1, 2]               0\n",
      "================================================================\n",
      "Total params: 57,012,034\n",
      "Trainable params: 8,194\n",
      "Non-trainable params: 57,003,840\n",
      "----------------------------------------------------------------\n",
      "Input size (MB): 3.00\n",
      "Forward/backward pass size (MB): 44.60\n",
      "Params size (MB): 217.48\n",
      "Estimated Total Size (MB): 265.08\n",
      "----------------------------------------------------------------\n"
     ]
    }
   ],
   "source": [
    "summary(alexnet, (3, image_size, image_size), device='cuda')"
   ]
  },
  {
   "cell_type": "code",
   "execution_count": 14,
   "metadata": {},
   "outputs": [
    {
     "data": {
      "text/plain": [
       "Adam (\n",
       "Parameter Group 0\n",
       "    amsgrad: False\n",
       "    betas: (0.9, 0.999)\n",
       "    eps: 1e-08\n",
       "    lr: 0.001\n",
       "    weight_decay: 0\n",
       ")"
      ]
     },
     "execution_count": 14,
     "metadata": {},
     "output_type": "execute_result"
    }
   ],
   "source": [
    "# Definição de algoritmo de otimização de gradiente descendente e função de erro\n",
    "loss_func = nn.NLLLoss()\n",
    "optimizer = optim.Adam(alexnet.parameters())\n",
    "optimizer"
   ]
  },
  {
   "cell_type": "code",
   "execution_count": 19,
   "metadata": {},
   "outputs": [],
   "source": [
    "def train_and_validate(model, loss_criterion, optimizer, epochs=25):\n",
    "    '''\n",
    "    Função para treinamento e validação\n",
    "    Parâmetros\n",
    "        :param model: modelo para treinar e validar\n",
    "        :param loss_criterion: critério de erro para minização\n",
    "        :param optimizer: otimizador para calcular os gradientes\n",
    "        :param epochs: número de épocas (default=25)\n",
    "  \n",
    "    Retorna\n",
    "        model: modelo treinado com a melhor acurácia na validação\n",
    "        history: (dicionário): histórico com erro no treinamento, erro na validação e acurácia\n",
    "    '''\n",
    "    \n",
    "    start = time.time()\n",
    "    history = []\n",
    "    best_acc = 0.0\n",
    "\n",
    "    for epoch in range(epochs):\n",
    "        epoch_start = time.time()\n",
    "        print(\"Epoch: {}/{}\".format(epoch+1, epochs))\n",
    "        \n",
    "        # Set to training mode\n",
    "        model.train()\n",
    "        \n",
    "        # Loss and Accuracy within the epoch\n",
    "        train_loss = 0.0\n",
    "        train_acc = 0.0\n",
    "        \n",
    "        valid_loss = 0.0\n",
    "        valid_acc = 0.0\n",
    "        \n",
    "        for i, (inputs, labels) in enumerate(train_data_loader):\n",
    "\n",
    "            inputs = inputs.to(device)\n",
    "            labels = labels.to(device)\n",
    "            \n",
    "            # Limpar gradientes\n",
    "            optimizer.zero_grad()\n",
    "            \n",
    "            # Forward pass - calcular saídas a partir das entradas utilizando o modelo\n",
    "            outputs = model(inputs)\n",
    "            \n",
    "            # Calcular erro\n",
    "            loss = loss_criterion(outputs, labels)\n",
    "            \n",
    "            # Realizar backpropagation \n",
    "            loss.backward()\n",
    "            \n",
    "            # Atualizar os parâmetros\n",
    "            optimizer.step()\n",
    "            \n",
    "            # Calcular o erro total para esse lote (batch) e somar o erro no treino\n",
    "            train_loss += loss.item() * inputs.size(0)\n",
    "            \n",
    "            # Calcula a acurácia\n",
    "            ret, predictions = torch.max(outputs.data, 1)\n",
    "            correct_counts = predictions.eq(labels.data.view_as(predictions))\n",
    "            \n",
    "            # Converter os acertos para float e calcular a acurácia média\n",
    "            acc = torch.mean(correct_counts.type(torch.FloatTensor))\n",
    "            \n",
    "            # Calcular a acurácia total de treino do lote todo e adicionar a em train_acc\n",
    "            train_acc += acc.item() * inputs.size(0)\n",
    "            \n",
    "            #print(\"Batch number: {:03d}, Training: Loss: {:.4f}, Accuracy: {:.4f}\".format(i, loss.item(), acc.item()))\n",
    "\n",
    "            \n",
    "        # Validação - não é necessário rastrear os gradientes, pois o modelo não vai ser treinado com a validação\n",
    "        with torch.no_grad():\n",
    "\n",
    "            # Mudando de treino para validação\n",
    "            model.eval()\n",
    "\n",
    "            # Iteração de validação\n",
    "            for j, (inputs, labels) in enumerate(valid_data_loader):\n",
    "                inputs = inputs.to(device)\n",
    "                labels = labels.to(device)\n",
    "\n",
    "                # Forward pass de validação\n",
    "                outputs = model(inputs)\n",
    "\n",
    "                # Calcular erro de validação\n",
    "                loss = loss_criterion(outputs, labels)\n",
    "\n",
    "                # Calcular erro de validação e adicionar a valid_loss\n",
    "                valid_loss += loss.item() * inputs.size(0)\n",
    "\n",
    "                # Calcular a acurácia de validação\n",
    "                ret, predictions = torch.max(outputs.data, 1)\n",
    "                correct_counts = predictions.eq(labels.data.view_as(predictions))\n",
    "\n",
    "                # Converter os acertos para float e calcular a acurácia média\n",
    "                acc = torch.mean(correct_counts.type(torch.FloatTensor))\n",
    "\n",
    "                # Calcular a acurácia total de validação do lote todo e adicionar a em train_acc\n",
    "                valid_acc += acc.item() * inputs.size(0)\n",
    "\n",
    "                #print(\"Validation Batch number: {:03d}, Validation: Loss: {:.4f}, Accuracy: {:.4f}\".format(j, loss.item(), acc.item()))\n",
    "            \n",
    "        # Calcular a média de erro e acurácia no treino\n",
    "        avg_train_loss = train_loss/train_data_size \n",
    "        avg_train_acc = train_acc/train_data_size\n",
    "\n",
    "        # Calcular a média de erro e acurácia na validação\n",
    "        avg_valid_loss = valid_loss/valid_data_size \n",
    "        avg_valid_acc = valid_acc/valid_data_size\n",
    "\n",
    "        # Incluir no histórico\n",
    "        history.append([avg_train_loss, avg_valid_loss, avg_train_acc, avg_valid_acc])\n",
    "                \n",
    "        epoch_end = time.time()\n",
    "    \n",
    "        print(\"Epoch : {:03d}, Training: Loss: {:.4f}, Accuracy: {:.4f}%, \\n\\t\\tValidation : Loss : {:.4f}, Accuracy: {:.4f}%, Time: {:.4f}s\".format(epoch+1, avg_train_loss, avg_train_acc*100, avg_valid_loss, avg_valid_acc*100, epoch_end-epoch_start))\n",
    "        \n",
    "        # Save if the model has best accuracy till now\n",
    "        if avg_valid_acc > best_acc:\n",
    "            best_acc = avg_valid_acc\n",
    "            torch.save(model, './modelos/modelo_'+str(epoch)+'.pt')\n",
    "            \n",
    "    return model, history"
   ]
  },
  {
   "cell_type": "code",
   "execution_count": 21,
   "metadata": {},
   "outputs": [
    {
     "name": "stdout",
     "output_type": "stream",
     "text": [
      "Epoch: 1/50\n",
      "Epoch : 001, Training: Loss: 0.3561, Accuracy: 84.6154%, \n",
      "\t\tValidation : Loss : 0.4106, Accuracy: 81.2500%, Time: 35.3481s\n",
      "Epoch: 2/50\n",
      "Epoch : 002, Training: Loss: 0.3640, Accuracy: 84.0909%, \n",
      "\t\tValidation : Loss : 0.3417, Accuracy: 84.0278%, Time: 34.9824s\n",
      "Epoch: 3/50\n",
      "Epoch : 003, Training: Loss: 0.3639, Accuracy: 83.5664%, \n",
      "\t\tValidation : Loss : 0.3480, Accuracy: 84.7222%, Time: 34.9457s\n",
      "Epoch: 4/50\n",
      "Epoch : 004, Training: Loss: 0.3602, Accuracy: 83.9161%, \n",
      "\t\tValidation : Loss : 0.3495, Accuracy: 83.3333%, Time: 35.2868s\n",
      "Epoch: 5/50\n",
      "Epoch : 005, Training: Loss: 0.3401, Accuracy: 84.4406%, \n",
      "\t\tValidation : Loss : 0.3679, Accuracy: 82.6389%, Time: 34.5301s\n",
      "Epoch: 6/50\n",
      "Epoch : 006, Training: Loss: 0.3640, Accuracy: 83.6538%, \n",
      "\t\tValidation : Loss : 0.3557, Accuracy: 83.3333%, Time: 34.2551s\n",
      "Epoch: 7/50\n",
      "Epoch : 007, Training: Loss: 0.3982, Accuracy: 82.6049%, \n",
      "\t\tValidation : Loss : 0.3237, Accuracy: 88.1944%, Time: 34.4401s\n",
      "Epoch: 8/50\n",
      "Epoch : 008, Training: Loss: 0.3704, Accuracy: 82.7797%, \n",
      "\t\tValidation : Loss : 0.3638, Accuracy: 84.0278%, Time: 34.5256s\n",
      "Epoch: 9/50\n",
      "Epoch : 009, Training: Loss: 0.3764, Accuracy: 83.2168%, \n",
      "\t\tValidation : Loss : 0.4236, Accuracy: 78.4722%, Time: 34.9766s\n",
      "Epoch: 10/50\n",
      "Epoch : 010, Training: Loss: 0.3372, Accuracy: 85.9266%, \n",
      "\t\tValidation : Loss : 0.3900, Accuracy: 84.0278%, Time: 34.4464s\n",
      "Epoch: 11/50\n",
      "Epoch : 011, Training: Loss: 0.3595, Accuracy: 84.3531%, \n",
      "\t\tValidation : Loss : 0.3758, Accuracy: 84.0278%, Time: 34.4880s\n",
      "Epoch: 12/50\n",
      "Epoch : 012, Training: Loss: 0.3446, Accuracy: 84.8776%, \n",
      "\t\tValidation : Loss : 0.4041, Accuracy: 82.6389%, Time: 35.2739s\n",
      "Epoch: 13/50\n",
      "Epoch : 013, Training: Loss: 0.3739, Accuracy: 83.2168%, \n",
      "\t\tValidation : Loss : 0.3492, Accuracy: 84.7222%, Time: 35.7325s\n",
      "Epoch: 14/50\n",
      "Epoch : 014, Training: Loss: 0.3574, Accuracy: 84.1783%, \n",
      "\t\tValidation : Loss : 0.3092, Accuracy: 87.5000%, Time: 35.0351s\n",
      "Epoch: 15/50\n",
      "Epoch : 015, Training: Loss: 0.3817, Accuracy: 81.8182%, \n",
      "\t\tValidation : Loss : 0.3221, Accuracy: 86.8056%, Time: 35.1981s\n",
      "Epoch: 16/50\n",
      "Epoch : 016, Training: Loss: 0.3620, Accuracy: 84.0909%, \n",
      "\t\tValidation : Loss : 0.3798, Accuracy: 81.2500%, Time: 35.5782s\n",
      "Epoch: 17/50\n",
      "Epoch : 017, Training: Loss: 0.3407, Accuracy: 84.9650%, \n",
      "\t\tValidation : Loss : 0.3740, Accuracy: 84.0278%, Time: 34.4670s\n",
      "Epoch: 18/50\n",
      "Epoch : 018, Training: Loss: 0.3470, Accuracy: 84.1783%, \n",
      "\t\tValidation : Loss : 0.3240, Accuracy: 86.8056%, Time: 34.5497s\n",
      "Epoch: 19/50\n",
      "Epoch : 019, Training: Loss: 0.3547, Accuracy: 83.1294%, \n",
      "\t\tValidation : Loss : 0.3550, Accuracy: 86.1111%, Time: 34.3967s\n",
      "Epoch: 20/50\n",
      "Epoch : 020, Training: Loss: 0.3536, Accuracy: 85.3147%, \n",
      "\t\tValidation : Loss : 0.3292, Accuracy: 86.8056%, Time: 33.6956s\n",
      "Epoch: 21/50\n",
      "Epoch : 021, Training: Loss: 0.3642, Accuracy: 84.2657%, \n",
      "\t\tValidation : Loss : 0.3182, Accuracy: 86.8056%, Time: 31.1283s\n",
      "Epoch: 22/50\n",
      "Epoch : 022, Training: Loss: 0.3746, Accuracy: 84.3531%, \n",
      "\t\tValidation : Loss : 0.4281, Accuracy: 78.4722%, Time: 32.7599s\n",
      "Epoch: 23/50\n",
      "Epoch : 023, Training: Loss: 0.3642, Accuracy: 85.3147%, \n",
      "\t\tValidation : Loss : 0.4014, Accuracy: 80.5556%, Time: 33.1610s\n",
      "Epoch: 24/50\n",
      "Epoch : 024, Training: Loss: 0.3585, Accuracy: 84.0035%, \n",
      "\t\tValidation : Loss : 0.4210, Accuracy: 77.0833%, Time: 32.5134s\n",
      "Epoch: 25/50\n",
      "Epoch : 025, Training: Loss: 0.3609, Accuracy: 84.2657%, \n",
      "\t\tValidation : Loss : 0.4196, Accuracy: 76.3889%, Time: 32.9301s\n",
      "Epoch: 26/50\n",
      "Epoch : 026, Training: Loss: 0.3636, Accuracy: 84.7028%, \n",
      "\t\tValidation : Loss : 0.3944, Accuracy: 81.2500%, Time: 32.9901s\n",
      "Epoch: 27/50\n",
      "Epoch : 027, Training: Loss: 0.3334, Accuracy: 85.7517%, \n",
      "\t\tValidation : Loss : 0.3215, Accuracy: 86.8056%, Time: 33.1911s\n",
      "Epoch: 28/50\n",
      "Epoch : 028, Training: Loss: 0.3424, Accuracy: 84.7028%, \n",
      "\t\tValidation : Loss : 0.3732, Accuracy: 84.7222%, Time: 31.5231s\n",
      "Epoch: 29/50\n",
      "Epoch : 029, Training: Loss: 0.3589, Accuracy: 84.8776%, \n",
      "\t\tValidation : Loss : 0.3252, Accuracy: 87.5000%, Time: 31.2055s\n",
      "Epoch: 30/50\n",
      "Epoch : 030, Training: Loss: 0.3747, Accuracy: 83.0420%, \n",
      "\t\tValidation : Loss : 0.3726, Accuracy: 83.3333%, Time: 32.1066s\n",
      "Epoch: 31/50\n",
      "Epoch : 031, Training: Loss: 0.3670, Accuracy: 84.0035%, \n",
      "\t\tValidation : Loss : 0.4530, Accuracy: 75.0000%, Time: 33.1464s\n",
      "Epoch: 32/50\n",
      "Epoch : 032, Training: Loss: 0.3562, Accuracy: 84.4406%, \n",
      "\t\tValidation : Loss : 0.3164, Accuracy: 88.1944%, Time: 33.9978s\n",
      "Epoch: 33/50\n",
      "Epoch : 033, Training: Loss: 0.3234, Accuracy: 86.1888%, \n",
      "\t\tValidation : Loss : 0.3582, Accuracy: 85.4167%, Time: 33.1941s\n",
      "Epoch: 34/50\n",
      "Epoch : 034, Training: Loss: 0.3529, Accuracy: 85.7517%, \n",
      "\t\tValidation : Loss : 0.3179, Accuracy: 87.5000%, Time: 34.4481s\n",
      "Epoch: 35/50\n",
      "Epoch : 035, Training: Loss: 0.3317, Accuracy: 85.6643%, \n",
      "\t\tValidation : Loss : 0.3284, Accuracy: 86.1111%, Time: 34.4657s\n",
      "Epoch: 36/50\n",
      "Epoch : 036, Training: Loss: 0.3581, Accuracy: 84.7028%, \n",
      "\t\tValidation : Loss : 0.3595, Accuracy: 84.0278%, Time: 33.6707s\n",
      "Epoch: 37/50\n",
      "Epoch : 037, Training: Loss: 0.3477, Accuracy: 85.3147%, \n",
      "\t\tValidation : Loss : 0.3447, Accuracy: 86.1111%, Time: 33.7139s\n",
      "Epoch: 38/50\n",
      "Epoch : 038, Training: Loss: 0.3691, Accuracy: 84.0909%, \n",
      "\t\tValidation : Loss : 0.3161, Accuracy: 88.8889%, Time: 34.8741s\n",
      "Epoch: 39/50\n",
      "Epoch : 039, Training: Loss: 0.3721, Accuracy: 84.3531%, \n",
      "\t\tValidation : Loss : 0.3379, Accuracy: 86.1111%, Time: 34.4768s\n",
      "Epoch: 40/50\n",
      "Epoch : 040, Training: Loss: 0.3648, Accuracy: 84.0035%, \n",
      "\t\tValidation : Loss : 0.3269, Accuracy: 88.1944%, Time: 33.5515s\n",
      "Epoch: 41/50\n",
      "Epoch : 041, Training: Loss: 0.3544, Accuracy: 84.2657%, \n",
      "\t\tValidation : Loss : 0.3636, Accuracy: 83.3333%, Time: 34.6231s\n",
      "Epoch: 42/50\n",
      "Epoch : 042, Training: Loss: 0.3617, Accuracy: 83.8287%, \n",
      "\t\tValidation : Loss : 0.4376, Accuracy: 77.0833%, Time: 34.8089s\n",
      "Epoch: 43/50\n",
      "Epoch : 043, Training: Loss: 0.3543, Accuracy: 84.6154%, \n",
      "\t\tValidation : Loss : 0.3615, Accuracy: 83.3333%, Time: 33.7614s\n",
      "Epoch: 44/50\n",
      "Epoch : 044, Training: Loss: 0.3537, Accuracy: 84.0035%, \n",
      "\t\tValidation : Loss : 0.3606, Accuracy: 83.3333%, Time: 35.5510s\n",
      "Epoch: 45/50\n",
      "Epoch : 045, Training: Loss: 0.3711, Accuracy: 84.2657%, \n",
      "\t\tValidation : Loss : 0.3619, Accuracy: 84.7222%, Time: 35.8617s\n",
      "Epoch: 46/50\n",
      "Epoch : 046, Training: Loss: 0.3459, Accuracy: 86.3636%, \n",
      "\t\tValidation : Loss : 0.3362, Accuracy: 84.7222%, Time: 35.2870s\n",
      "Epoch: 47/50\n",
      "Epoch : 047, Training: Loss: 0.3823, Accuracy: 83.3042%, \n",
      "\t\tValidation : Loss : 0.3103, Accuracy: 87.5000%, Time: 37.3341s\n",
      "Epoch: 48/50\n",
      "Epoch : 048, Training: Loss: 0.3508, Accuracy: 84.8776%, \n",
      "\t\tValidation : Loss : 0.3287, Accuracy: 86.1111%, Time: 36.9776s\n",
      "Epoch: 49/50\n",
      "Epoch : 049, Training: Loss: 0.3660, Accuracy: 82.9545%, \n",
      "\t\tValidation : Loss : 0.3377, Accuracy: 84.7222%, Time: 34.4555s\n",
      "Epoch: 50/50\n",
      "Epoch : 050, Training: Loss: 0.3600, Accuracy: 84.4406%, \n",
      "\t\tValidation : Loss : 0.4190, Accuracy: 79.1667%, Time: 35.6522s\n"
     ]
    }
   ],
   "source": [
    "device = torch.device(\"cuda:0\" if torch.cuda.is_available() else \"cpu\")\n",
    "\n",
    "num_epochs = 50\n",
    "trained_model, history = train_and_validate(alexnet, loss_func, optimizer, num_epochs)\n",
    "\n",
    "#torch.save(history, dataset+'_history_3.pt')"
   ]
  },
  {
   "cell_type": "code",
   "execution_count": 24,
   "metadata": {},
   "outputs": [
    {
     "data": {
      "image/png": "[encoded data removed]",
      "text/plain": [
       "<Figure size 432x288 with 1 Axes>"
      ]
     },
     "metadata": {
      "needs_background": "light"
     },
     "output_type": "display_data"
    }
   ],
   "source": [
    "history = np.array(history)\n",
    "plt.plot(history[:,0:2])\n",
    "plt.legend(['Erro Treino', 'Erro Validação'])\n",
    "plt.xlabel('Época')\n",
    "plt.ylabel('Erro')\n",
    "plt.ylim(0,1)\n",
    "plt.savefig(dataset+'_loss_curve.png')\n",
    "plt.show()"
   ]
  },
  {
   "cell_type": "code",
   "execution_count": 25,
   "metadata": {},
   "outputs": [
    {
     "data": {
      "image/png": "[encoded data removed]",
      "text/plain": [
       "<Figure size 432x288 with 1 Axes>"
      ]
     },
     "metadata": {
      "needs_background": "light"
     },
     "output_type": "display_data"
    }
   ],
   "source": [
    "plt.plot(history[:,2:4])\n",
    "plt.legend(['Acurácia Treino', 'Acurácia Validação'])\n",
    "plt.xlabel('Época')\n",
    "plt.ylabel('Acurácia')\n",
    "plt.ylim(0,1)\n",
    "plt.savefig(dataset+'_accuracy_curve.png')\n",
    "plt.show()"
   ]
  },
  {
   "cell_type": "code",
   "execution_count": 26,
   "metadata": {},
   "outputs": [
    {
     "data": {
      "text/plain": [
       "AlexNet(\n",
       "  (features): Sequential(\n",
       "    (0): Conv2d(3, 64, kernel_size=(11, 11), stride=(4, 4), padding=(2, 2))\n",
       "    (1): ReLU(inplace=True)\n",
       "    (2): MaxPool2d(kernel_size=3, stride=2, padding=0, dilation=1, ceil_mode=False)\n",
       "    (3): Conv2d(64, 192, kernel_size=(5, 5), stride=(1, 1), padding=(2, 2))\n",
       "    (4): ReLU(inplace=True)\n",
       "    (5): MaxPool2d(kernel_size=3, stride=2, padding=0, dilation=1, ceil_mode=False)\n",
       "    (6): Conv2d(192, 384, kernel_size=(3, 3), stride=(1, 1), padding=(1, 1))\n",
       "    (7): ReLU(inplace=True)\n",
       "    (8): Conv2d(384, 256, kernel_size=(3, 3), stride=(1, 1), padding=(1, 1))\n",
       "    (9): ReLU(inplace=True)\n",
       "    (10): Conv2d(256, 256, kernel_size=(3, 3), stride=(1, 1), padding=(1, 1))\n",
       "    (11): ReLU(inplace=True)\n",
       "    (12): MaxPool2d(kernel_size=3, stride=2, padding=0, dilation=1, ceil_mode=False)\n",
       "  )\n",
       "  (avgpool): AdaptiveAvgPool2d(output_size=(6, 6))\n",
       "  (classifier): Sequential(\n",
       "    (0): Dropout(p=0.5, inplace=False)\n",
       "    (1): Linear(in_features=9216, out_features=4096, bias=True)\n",
       "    (2): ReLU(inplace=True)\n",
       "    (3): Dropout(p=0.5, inplace=False)\n",
       "    (4): Linear(in_features=4096, out_features=4096, bias=True)\n",
       "    (5): ReLU(inplace=True)\n",
       "    (6): Linear(in_features=4096, out_features=2, bias=True)\n",
       "    (7): LogSoftmax(dim=1)\n",
       "  )\n",
       ")"
      ]
     },
     "execution_count": 26,
     "metadata": {},
     "output_type": "execute_result"
    }
   ],
   "source": [
    "melhor_modelo = torch.load('./modelos/modelo_37.pt')\n",
    "melhor_modelo"
   ]
  },
  {
   "cell_type": "code",
   "execution_count": 60,
   "metadata": {},
   "outputs": [],
   "source": [
    "def predict(model, test_image_name):\n",
    "    '''\n",
    "    Função para realizar a predição do status do AR\n",
    "    Parâmetros\n",
    "        :param model: modelo para testar\n",
    "        :param test_image_name: imagem teste\n",
    "    '''\n",
    "    \n",
    "    transform = image_transforms['test']\n",
    "\n",
    "    test_image = Image.open(test_image_name)\n",
    "    #plt.imshow(test_image)\n",
    "    \n",
    "    test_image_tensor = transform(test_image)\n",
    "\n",
    "    if torch.cuda.is_available():\n",
    "        test_image_tensor = test_image_tensor.view(1, 3, image_size, image_size).cuda()\n",
    "    else:\n",
    "        test_image_tensor = test_image_tensor.view(1, 3, image_size, image_size)\n",
    "    \n",
    "    predict_dict = dict()\n",
    "    \n",
    "    with torch.no_grad():\n",
    "        model.eval()\n",
    "        # Modelo retorna as probabilidades em log\n",
    "        out = model(test_image_tensor)\n",
    "        \n",
    "        # Exp para voltar a probabilidade de log\n",
    "        ps = torch.exp(out)\n",
    "        topk, topclass = ps.topk(2, dim=1)\n",
    "        for i in range(2):\n",
    "            #print(\"Predcition\", i+1, \":\", idx_to_class[topclass.cpu().numpy()[0][i]], \", Score: \", topk.cpu().numpy()[0][i])\n",
    "            predict_dict[idx_to_class[topclass.cpu().numpy()[0][i]]] = topk.cpu().numpy()[0][i]\n",
    "    \n",
    "    return predict_dict"
   ]
  },
  {
   "cell_type": "code",
   "execution_count": 61,
   "metadata": {},
   "outputs": [],
   "source": [
    "test_folder = dataset + r'\\test'"
   ]
  },
  {
   "cell_type": "code",
   "execution_count": 64,
   "metadata": {},
   "outputs": [],
   "source": [
    "def test_accuracy(model, test_folder):\n",
    "    classes = os.listdir(test_folder)\n",
    "    #print(classes)\n",
    "    \n",
    "    correct_predictions = 0\n",
    "    wrong_predictions = 0\n",
    "    \n",
    "    for cl in classes:\n",
    "        cl1_files = os.listdir(os.path.join(test_folder, cl))\n",
    "        \n",
    "        for image in cl1_files:\n",
    "            full_path_image = os.path.join(test_folder, cl, image)\n",
    "            p = predict(model, full_path_image)\n",
    "            predicted_class = max(p, key=lambda key: p[key])\n",
    "            #print(predicted_class)\n",
    "            \n",
    "            if predicted_class == cl:\n",
    "                correct_predictions += 1\n",
    "            else:\n",
    "                wrong_predictions += 1\n",
    "                #print(f'predicted {predicted_class} - ground true {cl} - image {full_path_image}')\n",
    "    \n",
    "    return correct_predictions / (correct_predictions + wrong_predictions)\n"
   ]
  },
  {
   "cell_type": "code",
   "execution_count": 65,
   "metadata": {},
   "outputs": [
    {
     "data": {
      "text/plain": [
       "0.8888888888888888"
      ]
     },
     "execution_count": 65,
     "metadata": {},
     "output_type": "execute_result"
    }
   ],
   "source": [
    "test_acc = test_accuracy(melhor_modelo, test_folder)\n",
    "test_acc"
   ]
  }
 ],
 "metadata": {
  "kernelspec": {
   "display_name": "Python 3",
   "language": "python",
   "name": "python3"
  },
  "language_info": {
   "codemirror_mode": {
    "name": "ipython",
    "version": 3
   },
   "file_extension": ".py",
   "mimetype": "text/x-python",
   "name": "python",
   "nbconvert_exporter": "python",
   "pygments_lexer": "ipython3",
   "version": "3.7.8"
  }
 },
 "nbformat": 4,
 "nbformat_minor": 2
}
